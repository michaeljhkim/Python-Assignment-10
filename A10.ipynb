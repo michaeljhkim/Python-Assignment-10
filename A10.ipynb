{
 "cells": [
  {
   "cell_type": "markdown",
   "metadata": {
    "deletable": false,
    "editable": false,
    "nbgrader": {
     "cell_type": "markdown",
     "checksum": "728aded2896c4b6e7027d141d25242e5",
     "grade": false,
     "grade_id": "cell-cadb93ae26c72713",
     "locked": true,
     "schema_version": 3,
     "solution": false,
     "task": false
    }
   },
   "source": [
    "# Assignment 10\n",
    "\n",
    "## Sudoku Puzzles are Easy!\n",
    "\n",
    "### Maximum Grade: 44/24\n",
    "\n",
    "The purpose of this assignment is too\n",
    "\n",
    "1. Learn how to construct a program with a goal in mind.\n",
    "2. Learning to break a large problem down into smaller, bite-sized pieces and tackling each one individually.\n",
    "3. Learn how to solve Sudoku Puzzles for fun.\n",
    "4. To familiarize yourself with 2D arrays inside of an Object Oriented Program. (This is common on our exams!)\n",
    "\n",
    "You will see that you define the functions, without modifying the class definition. We chose to use this method to break the assignment into clear sections for you!"
   ]
  },
  {
   "cell_type": "code",
   "execution_count": 1,
   "metadata": {
    "deletable": false,
    "editable": false,
    "nbgrader": {
     "cell_type": "code",
     "checksum": "58714a52a6115470b2fde89aca129a76",
     "grade": false,
     "grade_id": "cell-a3102a72dcfddf13",
     "locked": true,
     "schema_version": 3,
     "solution": false,
     "task": false
    }
   },
   "outputs": [],
   "source": [
    "def tester(a, b=True):\n",
    "    \"\"\"\n",
    "    I am the function that tells you if you pass or fail tests.\n",
    "    Run me, please.\n",
    "    \"\"\"\n",
    "    return \"You Passed!\" if a == b else \"You Failed!\""
   ]
  },
  {
   "cell_type": "markdown",
   "metadata": {
    "deletable": false,
    "editable": false,
    "nbgrader": {
     "cell_type": "markdown",
     "checksum": "576c07f51dee4e2f4a222a1b1d543d01",
     "grade": false,
     "grade_id": "cell-bb134fce269189b8",
     "locked": true,
     "schema_version": 3,
     "solution": false,
     "task": false
    }
   },
   "source": [
    "A Sudoku Puzzle is a popular logic puzzle found in Newspapers, Magazines, and Puzzle Books! The puzzle is a grid that is 9 across and 9 down, and each cell of the grid can contain a number between 1 and 9. If no value is provided, the cell is designated with a 0, or None Value. For the purpose of this assignment, we ask you use 0.\n",
    "\n",
    "A Sudoku Puzzle typically will look like this:\n",
    "\n",
    "![image.png](./sudoku-board.png)\n",
    "\n",
    "There are 3 rules in Sudoku that you need to remember at all times:\n",
    "\n",
    "1. Numbers cannot occur in a row twice.\n",
    "   - This is known as the Horizontal Line Rule.\n",
    "2. Numbers cannot occur in a column twice.\n",
    "   - This is known as the Vertical Line Rule.\n",
    "3. Numbers cannot occur in the same 3x3 box twice.\n",
    "   - This is known as the Sub-Square Rule.\n",
    "\n",
    "Below is a starter class for this program, with some helpful functions provided by us. You don't need to touch this code below!"
   ]
  },
  {
   "cell_type": "code",
   "execution_count": 2,
   "metadata": {
    "deletable": false,
    "editable": false,
    "nbgrader": {
     "cell_type": "code",
     "checksum": "ff01cab1896b4024b4e70ce627fd30ff",
     "grade": false,
     "grade_id": "cell-25d7ab664129387d",
     "locked": true,
     "schema_version": 3,
     "solution": false,
     "task": false
    }
   },
   "outputs": [],
   "source": [
    "class SudokuPuzzle(object):\n",
    "    def __init__(self, board: list = None):\n",
    "        \"\"\"\n",
    "        Make a copy of the input board. If input board is None, create board of 0s.\n",
    "        \"\"\"\n",
    "        if board is not None and \\\n",
    "                len(board) == 9 and \\\n",
    "                all(len(row) == 9 for row in board) and \\\n",
    "                all(0 <= board[row][col] <= 9\n",
    "                    for col in range(9)\n",
    "                    for row in range(9)\n",
    "                ):\n",
    "            self.board: list = [[cell for cell in row] for row in board]\n",
    "        else:\n",
    "            self.board: list = [[0 for _ in range(9)] for _ in range(9)]\n",
    "\n",
    "    def __str__(self) -> str:\n",
    "        puzzle: str = \"╔\" + (\"═══╦\" * 8) + \"═\" * 3 + \"╗\\n\"\n",
    "        for row_index, row in enumerate(self.board):\n",
    "            puzzle += \"║\"\n",
    "            for col_index, cell in enumerate(row):\n",
    "                puzzle += f\" {cell if cell not in [0, None] else ' '} ║\"\n",
    "            if row_index < 8:\n",
    "                puzzle += \"\\n╠\" + (\"═══╬\" * 8) + \"═══╣\\n\"\n",
    "            else:\n",
    "                puzzle += '\\n'\n",
    "        return puzzle + \"╚\" + \"═══╩\" * 8 + \"═\" * 3 + \"╝\\n\"\n",
    "\n",
    "    def __eq__(self, other) -> bool:\n",
    "        return all(\n",
    "            self.board[row][col] == other.board[row][col]\n",
    "            for row in range(9) \n",
    "            for col in range(9)\n",
    "        )"
   ]
  },
  {
   "cell_type": "markdown",
   "metadata": {
    "deletable": false,
    "editable": false,
    "nbgrader": {
     "cell_type": "markdown",
     "checksum": "09749ecff38913e9e04de344de95d2ff",
     "grade": false,
     "grade_id": "cell-b5851315fa5cefed",
     "locked": true,
     "schema_version": 3,
     "solution": false,
     "task": false
    }
   },
   "source": [
    "Now, this class will be what we are working with for this assignment. All functions will take in a \"self\" member which contains the Sudoku Board, and allow you to perform operations on it. You will be mutating the `self.board` value as you solve the Sudoku Puzzle!\n",
    "\n",
    "I will then take the functions you make, and put them in this class with a little Python Magic!"
   ]
  },
  {
   "cell_type": "markdown",
   "metadata": {
    "deletable": false,
    "editable": false,
    "nbgrader": {
     "cell_type": "markdown",
     "checksum": "96c2d17a9e20f79e9c169d37fb445e8c",
     "grade": false,
     "grade_id": "cell-d8dec0a544bbbd05",
     "locked": true,
     "schema_version": 3,
     "solution": false,
     "task": false
    }
   },
   "source": [
    "## Question 1 - Loading Sudoku Puzzles [4 points]\n",
    "\n",
    "Look, instead of just hard coding a BUNCH of sudoku puzzles into the code, it would be useful to load them in from a file. \n",
    "\n",
    "Provided to you is a JSON file full of Sudoku Puzzles with various names assigned to them. You can open it to see the format.\n",
    "\n",
    "Write a function, `load_puzzle`, that takes in two parameters:\n",
    "\n",
    "1. `file_name`: This is the name of the file that contains the Sudoku Puzzles. \n",
    "   - If the file fails to load, then you should again try to open the file, but add `.json` to the end of the filename.\n",
    "   - If that fails, then the program will error and this is expected!\n",
    "2. `puzzle_name`: This is the name of the puzzle you want to load. \n",
    "   - It will always be in the file if that file exists, so no need to worry!\n",
    "\n",
    "Return a `SudokuPuzzle` object that contains the puzzle you want to load. I made the constructor for you already, no need to panic!"
   ]
  },
  {
   "cell_type": "code",
   "execution_count": 9,
   "metadata": {
    "deletable": false,
    "nbgrader": {
     "cell_type": "code",
     "checksum": "a047aa38b00e5d35a0222cc08d1f3644",
     "grade": false,
     "grade_id": "cell-61dcd1b3bd53a53c",
     "locked": false,
     "schema_version": 3,
     "solution": true,
     "task": false
    }
   },
   "outputs": [],
   "source": [
    "import json\n",
    "\n",
    "def load_puzzle(file_name, puzzle_name):\n",
    "    json_dict = json.load(open(file_name))\n",
    "    \n",
    "    return SudokuPuzzle(json_dict[puzzle_name])\n"
   ]
  },
  {
   "cell_type": "code",
   "execution_count": 10,
   "metadata": {
    "deletable": false,
    "editable": false,
    "nbgrader": {
     "cell_type": "code",
     "checksum": "55796f0828e3e7d0f34e64dfad0c79e0",
     "grade": false,
     "grade_id": "cell-9665ac93cd1b6ec2",
     "locked": true,
     "schema_version": 3,
     "solution": false,
     "task": false
    }
   },
   "outputs": [
    {
     "name": "stdout",
     "output_type": "stream",
     "text": [
      "Question #1 - Test Case #1: You Passed!\n",
      "╔═══╦═══╦═══╦═══╦═══╦═══╦═══╦═══╦═══╗\n",
      "║   ║   ║ 7 ║   ║   ║   ║   ║ 1 ║ 5 ║\n",
      "╠═══╬═══╬═══╬═══╬═══╬═══╬═══╬═══╬═══╣\n",
      "║   ║   ║   ║ 3 ║ 9 ║ 7 ║   ║   ║   ║\n",
      "╠═══╬═══╬═══╬═══╬═══╬═══╬═══╬═══╬═══╣\n",
      "║   ║ 6 ║ 2 ║   ║ 1 ║   ║ 4 ║   ║ 9 ║\n",
      "╠═══╬═══╬═══╬═══╬═══╬═══╬═══╬═══╬═══╣\n",
      "║   ║ 2 ║   ║   ║   ║ 1 ║ 5 ║ 4 ║ 3 ║\n",
      "╠═══╬═══╬═══╬═══╬═══╬═══╬═══╬═══╬═══╣\n",
      "║ 7 ║   ║   ║ 4 ║   ║ 9 ║   ║   ║ 1 ║\n",
      "╠═══╬═══╬═══╬═══╬═══╬═══╬═══╬═══╬═══╣\n",
      "║ 4 ║ 8 ║ 1 ║ 2 ║   ║   ║   ║ 6 ║   ║\n",
      "╠═══╬═══╬═══╬═══╬═══╬═══╬═══╬═══╬═══╣\n",
      "║ 9 ║   ║ 6 ║   ║ 2 ║   ║ 7 ║ 3 ║   ║\n",
      "╠═══╬═══╬═══╬═══╬═══╬═══╬═══╬═══╬═══╣\n",
      "║   ║   ║   ║ 9 ║ 8 ║ 4 ║   ║   ║   ║\n",
      "╠═══╬═══╬═══╬═══╬═══╬═══╬═══╬═══╬═══╣\n",
      "║ 1 ║ 5 ║   ║   ║   ║   ║ 2 ║   ║   ║\n",
      "╚═══╩═══╩═══╩═══╩═══╩═══╩═══╩═══╩═══╝\n",
      "\n"
     ]
    }
   ],
   "source": [
    "puzzle = load_puzzle('A10_puzzles.json', 's1')\n",
    "print(\"Question #1 - Test Case #1:\", \n",
    "    tester(puzzle, SudokuPuzzle([\n",
    "        [0, 0, 7, 0, 0, 0, 0, 1, 5],\n",
    "        [0, 0, 0, 3, 9, 7, 0, 0, 0],\n",
    "        [0, 6, 2, 0, 1, 0, 4, 0, 9],\n",
    "        [0, 2, 0, 0, 0, 1, 5, 4, 3],\n",
    "        [7, 0, 0, 4, 0, 9, 0, 0, 1],\n",
    "        [4, 8, 1, 2, 0, 0, 0, 6, 0],\n",
    "        [9, 0, 6, 0, 2, 0, 7, 3, 0],\n",
    "        [0, 0, 0, 9, 8, 4, 0, 0, 0],\n",
    "        [1, 5, 0, 0, 0, 0, 2, 0, 0]\n",
    "    ])\n",
    "    )\n",
    ")\n",
    "print(puzzle)"
   ]
  },
  {
   "cell_type": "code",
   "execution_count": null,
   "metadata": {
    "deletable": false,
    "editable": false,
    "nbgrader": {
     "cell_type": "code",
     "checksum": "44dbfbd6be05e1c10980828ceb301b4d",
     "grade": true,
     "grade_id": "cell-79441afc6c5e3537",
     "locked": true,
     "points": 0,
     "schema_version": 3,
     "solution": false,
     "task": false
    }
   },
   "outputs": [],
   "source": [
    "# Hidden Test Case"
   ]
  },
  {
   "cell_type": "code",
   "execution_count": null,
   "metadata": {
    "deletable": false,
    "editable": false,
    "nbgrader": {
     "cell_type": "code",
     "checksum": "aa6ae1947e01ab2be128394c280752fc",
     "grade": true,
     "grade_id": "cell-500acef2fceb6ad4",
     "locked": true,
     "points": 1,
     "schema_version": 3,
     "solution": false,
     "task": false
    }
   },
   "outputs": [],
   "source": [
    "# Hidden Test Case"
   ]
  },
  {
   "cell_type": "code",
   "execution_count": null,
   "metadata": {
    "deletable": false,
    "editable": false,
    "nbgrader": {
     "cell_type": "code",
     "checksum": "3b840b5d51a9207db6b8b8d2f3cc8b12",
     "grade": true,
     "grade_id": "cell-6b9955e418cbb495",
     "locked": true,
     "points": 1,
     "schema_version": 3,
     "solution": false,
     "task": false
    }
   },
   "outputs": [],
   "source": [
    "# Hidden Test Case"
   ]
  },
  {
   "cell_type": "code",
   "execution_count": null,
   "metadata": {
    "deletable": false,
    "editable": false,
    "nbgrader": {
     "cell_type": "code",
     "checksum": "f4b912198d73a38ade0857864a02636d",
     "grade": true,
     "grade_id": "cell-1eb105e3b4d84aa2",
     "locked": true,
     "points": 1,
     "schema_version": 3,
     "solution": false,
     "task": false
    }
   },
   "outputs": [],
   "source": [
    "# Hidden Test Case"
   ]
  },
  {
   "cell_type": "code",
   "execution_count": null,
   "metadata": {
    "deletable": false,
    "editable": false,
    "nbgrader": {
     "cell_type": "code",
     "checksum": "331d121b5c81440c4e4611c742930e8d",
     "grade": true,
     "grade_id": "cell-7af1d64fb801bbf7",
     "locked": true,
     "points": 1,
     "schema_version": 3,
     "solution": false,
     "task": false
    }
   },
   "outputs": [],
   "source": [
    "# Hidden Test Case"
   ]
  },
  {
   "cell_type": "markdown",
   "metadata": {
    "deletable": false,
    "editable": false,
    "nbgrader": {
     "cell_type": "markdown",
     "checksum": "19259ec7cc376baef344d50116568479",
     "grade": false,
     "grade_id": "cell-ac14bfd87b8f7786",
     "locked": true,
     "schema_version": 3,
     "solution": false,
     "task": false
    }
   },
   "source": [
    "## Question 2 - Check if a Sudoku Is Solved\n",
    "\n",
    "Recall, a Sudoku Puzzle is solved when all of the following conditions are met:\n",
    "\n",
    "1. Every cell of the Sudoku Puzzle is filled (i.e. Non-Zero values).\n",
    "2. Every horizontal line of the Sudoku Puzzle contains the numbers 1-9 exactly once.\n",
    "3. Every vertical line of the Sudoku Puzzle contains the numbers 1-9 exactly once.\n",
    "4. Every Sub-Square of the Sudoku Puzzle contains the numbers 1-9 exactly once.\n",
    "\n",
    "We are going to tackle all 4 of these properties on their own, then combine them together at the end!"
   ]
  },
  {
   "cell_type": "markdown",
   "metadata": {
    "deletable": false,
    "editable": false,
    "nbgrader": {
     "cell_type": "markdown",
     "checksum": "97dbc955eaeea5ae2bc6c8f9a348bf82",
     "grade": false,
     "grade_id": "cell-e6b82a2ead32c62e",
     "locked": true,
     "schema_version": 3,
     "solution": false,
     "task": false
    }
   },
   "source": [
    "## Question 2a - Occupied! [2 points]\n",
    "\n",
    "Write a function called `all_filled` which takes in an argument of `self`. This argument is our `SudokuPuzzle` object instance, and this function will return a Boolean Value. Return `True` if there is no empty cell in the Sudoku Puzzle, and `False` if there is an empty cell."
   ]
  },
  {
   "cell_type": "code",
   "execution_count": 13,
   "metadata": {
    "deletable": false,
    "nbgrader": {
     "cell_type": "code",
     "checksum": "721a12ef5ef62c48da061a583813e4fb",
     "grade": false,
     "grade_id": "cell-16327c0decdb7c94",
     "locked": false,
     "schema_version": 3,
     "solution": true,
     "task": false
    }
   },
   "outputs": [],
   "source": [
    "def all_filled(self):\n",
    "    for x in self.board:\n",
    "        if 0 in x:\n",
    "            return False\n",
    "    return True\n",
    "\n",
    "# The following line of code will take your function and insert it into the class\n",
    "# Do not modify it.\n",
    "SudokuPuzzle.all_filled = all_filled"
   ]
  },
  {
   "cell_type": "code",
   "execution_count": 14,
   "metadata": {
    "deletable": false,
    "editable": false,
    "nbgrader": {
     "cell_type": "code",
     "checksum": "03da55692e2eac6db2ba5bf0bc3ffabb",
     "grade": false,
     "grade_id": "cell-b12e20fb824ba3c1",
     "locked": true,
     "schema_version": 3,
     "solution": false,
     "task": false
    }
   },
   "outputs": [
    {
     "name": "stdout",
     "output_type": "stream",
     "text": [
      "Question #1 - Test Case #1: You Passed!\n",
      "Question #1 - Test Case #2: You Passed!\n"
     ]
    }
   ],
   "source": [
    "s1 = load_puzzle(\"A10_puzzles.json\", \"s1\")\n",
    "s3 = load_puzzle(\"A10_puzzles.json\", \"s3\")\n",
    "print(\"Question #1 - Test Case #1:\", \n",
    "    tester(s1.all_filled(), False))\n",
    "print(\"Question #1 - Test Case #2:\", \n",
    "    tester(s3.all_filled(), True))\n"
   ]
  },
  {
   "cell_type": "code",
   "execution_count": null,
   "metadata": {
    "deletable": false,
    "editable": false,
    "nbgrader": {
     "cell_type": "code",
     "checksum": "f0e8fb5070ae8fbb8b1dd2e82e9e79cf",
     "grade": true,
     "grade_id": "cell-a77c90b2e5628130",
     "locked": true,
     "points": 1,
     "schema_version": 3,
     "solution": false,
     "task": false
    }
   },
   "outputs": [],
   "source": [
    "# Hidden Test Case"
   ]
  },
  {
   "cell_type": "code",
   "execution_count": null,
   "metadata": {
    "deletable": false,
    "editable": false,
    "nbgrader": {
     "cell_type": "code",
     "checksum": "399a013db342a1cccab9ad5421a5d6d1",
     "grade": true,
     "grade_id": "cell-96886c59797e4392",
     "locked": true,
     "points": 1,
     "schema_version": 3,
     "solution": false,
     "task": false
    }
   },
   "outputs": [],
   "source": [
    "# Hidden Test Case"
   ]
  },
  {
   "cell_type": "markdown",
   "metadata": {
    "deletable": false,
    "editable": false,
    "nbgrader": {
     "cell_type": "markdown",
     "checksum": "62d71810f8dde4002e24dcb4d5988a4f",
     "grade": false,
     "grade_id": "cell-05fb1894afe860aa",
     "locked": true,
     "schema_version": 3,
     "solution": false,
     "task": false
    }
   },
   "source": [
    "## Question 2b - Looking Across [2 points]\n",
    "\n",
    "Now, we are going to make a function called `horizontal_check` in which takes in 3 arguments:\n",
    "\n",
    "1. `self`: This is our `SudokuPuzzle` object instance.\n",
    "2. `row`: This is the row number integer of the cell we are checking, 0-indexed value following $0 \\le row \\le 8$.\n",
    "3. `value`: This is the value integer we are checking for, following $1 \\le value \\le 9$.\n",
    "\n",
    "Return `True` if that value **DOES NOT** appear anywhere in the `row`, and `False` if it has already been used in the `row`."
   ]
  },
  {
   "cell_type": "code",
   "execution_count": 19,
   "metadata": {
    "deletable": false,
    "nbgrader": {
     "cell_type": "code",
     "checksum": "4bc3d31a2e401618a4cc3f606f81941d",
     "grade": false,
     "grade_id": "cell-b2e9b89b839c45d9",
     "locked": false,
     "schema_version": 3,
     "solution": true,
     "task": false
    }
   },
   "outputs": [],
   "source": [
    "#if any numbers are NOT used, then it is implied that horizontal has duplicates\n",
    "def horizontal_check(self, row, value):\n",
    "    if value not in self.board[row]:\n",
    "        return True\n",
    "    \n",
    "    return False\n",
    "\n",
    "# The following line of code will take your function and insert it into the class\n",
    "# Do not modify it.\n",
    "SudokuPuzzle.horizontal_check = horizontal_check"
   ]
  },
  {
   "cell_type": "code",
   "execution_count": 20,
   "metadata": {
    "deletable": false,
    "editable": false,
    "nbgrader": {
     "cell_type": "code",
     "checksum": "34210922e11fc79b03ed2ea9cac008a9",
     "grade": false,
     "grade_id": "cell-a70e542bf463290b",
     "locked": true,
     "schema_version": 3,
     "solution": false,
     "task": false
    }
   },
   "outputs": [
    {
     "name": "stdout",
     "output_type": "stream",
     "text": [
      "Question #2a Test Case #1: You Passed!\n",
      "Question #2a Test Case #2: You Passed!\n"
     ]
    }
   ],
   "source": [
    "puzzle = load_puzzle(\"A10_puzzles.json\", \"s1\")\n",
    "print(\"Question #2a Test Case #1:\", tester(not puzzle.horizontal_check(0, 5)))\n",
    "print(\"Question #2a Test Case #2:\", tester(puzzle.horizontal_check(1, 1)))"
   ]
  },
  {
   "cell_type": "code",
   "execution_count": null,
   "metadata": {
    "deletable": false,
    "editable": false,
    "nbgrader": {
     "cell_type": "code",
     "checksum": "8eb5417a8cfe1d2ea42143dee6759561",
     "grade": true,
     "grade_id": "cell-0a9ad3855360c42a",
     "locked": true,
     "points": 1,
     "schema_version": 3,
     "solution": false,
     "task": false
    }
   },
   "outputs": [],
   "source": [
    "# Hidden Test Case "
   ]
  },
  {
   "cell_type": "code",
   "execution_count": null,
   "metadata": {
    "deletable": false,
    "editable": false,
    "nbgrader": {
     "cell_type": "code",
     "checksum": "de09796851ec832d3b53ee0380d55771",
     "grade": true,
     "grade_id": "cell-16a3b22ad274eb43",
     "locked": true,
     "points": 1,
     "schema_version": 3,
     "solution": false,
     "task": false
    }
   },
   "outputs": [],
   "source": [
    "# Hidden Test Case "
   ]
  },
  {
   "cell_type": "markdown",
   "metadata": {
    "deletable": false,
    "editable": false,
    "nbgrader": {
     "cell_type": "markdown",
     "checksum": "b1df1c8495f6d937568842cfb6fee27e",
     "grade": false,
     "grade_id": "cell-e91123c24ec77839",
     "locked": true,
     "schema_version": 3,
     "solution": false,
     "task": false
    }
   },
   "source": [
    "## Question 2c - Looking Down [2 points]\n",
    "\n",
    "Now, we are going to make a function called `vertical_check` in which takes in 3 arguments:\n",
    "\n",
    "1. `self`: This is our `SudokuPuzzle` object instance.\n",
    "2. `col`: This is the column number integer of the cell we are checking, 0-indexed value following $0 \\le col \\le 8$.\n",
    "3. `value`: This is the value integer we are checking for, following $1 \\le value \\le 9$.\n",
    "\n",
    "Return `True` if that value **DOES NOT** appear anywhere in the `col`, and `False` if it has already been used in the `col`."
   ]
  },
  {
   "cell_type": "code",
   "execution_count": 36,
   "metadata": {
    "deletable": false,
    "nbgrader": {
     "cell_type": "code",
     "checksum": "93234d2a98b1cfee9fc3f467084ae9a2",
     "grade": false,
     "grade_id": "cell-8537d0bba2cb183f",
     "locked": false,
     "schema_version": 3,
     "solution": true,
     "task": false
    }
   },
   "outputs": [],
   "source": [
    "def vertical_check(self, col, value):\n",
    "    column = []\n",
    "    \n",
    "    for x in self.board:\n",
    "        column.append(x[col])\n",
    "        \n",
    "    if value not in column:\n",
    "        return True\n",
    "    return False\n",
    "\n",
    "# The following line of code will take your function and insert it into the class\n",
    "# Do not modify it.\n",
    "SudokuPuzzle.vertical_check = vertical_check"
   ]
  },
  {
   "cell_type": "code",
   "execution_count": 37,
   "metadata": {
    "deletable": false,
    "editable": false,
    "nbgrader": {
     "cell_type": "code",
     "checksum": "67ce52f42b2c06282c2033c8ab6033ee",
     "grade": false,
     "grade_id": "cell-5f195f4b2b964ace",
     "locked": true,
     "schema_version": 3,
     "solution": false,
     "task": false
    }
   },
   "outputs": [
    {
     "name": "stdout",
     "output_type": "stream",
     "text": [
      "Question #2a Test Case #1: You Passed!\n",
      "Question #2a Test Case #2: You Passed!\n"
     ]
    }
   ],
   "source": [
    "puzzle = load_puzzle(\"A10_puzzles.json\", \"s1\")\n",
    "print(\"Question #2a Test Case #1:\", tester(not puzzle.vertical_check(4, 8)))\n",
    "print(\"Question #2a Test Case #2:\", tester(puzzle.vertical_check(8, 7)))"
   ]
  },
  {
   "cell_type": "code",
   "execution_count": null,
   "metadata": {
    "deletable": false,
    "editable": false,
    "nbgrader": {
     "cell_type": "code",
     "checksum": "6086c87de485cabd65e881ad4a930645",
     "grade": true,
     "grade_id": "cell-df5b96e7dec3b8ad",
     "locked": true,
     "points": 1,
     "schema_version": 3,
     "solution": false,
     "task": false
    }
   },
   "outputs": [],
   "source": [
    "# Hidden Test Case "
   ]
  },
  {
   "cell_type": "code",
   "execution_count": null,
   "metadata": {
    "deletable": false,
    "editable": false,
    "nbgrader": {
     "cell_type": "code",
     "checksum": "47d7bff317ca11d07fb1b47ac9f4892b",
     "grade": true,
     "grade_id": "cell-8a2448f612b1a9b0",
     "locked": true,
     "points": 1,
     "schema_version": 3,
     "solution": false,
     "task": false
    }
   },
   "outputs": [],
   "source": [
    "# Hidden Test Case "
   ]
  },
  {
   "cell_type": "markdown",
   "metadata": {
    "deletable": false,
    "editable": false,
    "nbgrader": {
     "cell_type": "markdown",
     "checksum": "ce2471f7036963df63a33b33f344629d",
     "grade": false,
     "grade_id": "cell-a7f8dd7b52f3f5f9",
     "locked": true,
     "schema_version": 3,
     "solution": false,
     "task": false
    }
   },
   "source": [
    "## Question 2d - Baby Sudoku Puzzles! [3 points]\n",
    "\n",
    "Now, we are going to make a function called `sub_square_check` in which takes in 4 arguments:\n",
    "\n",
    "1. `self`: This is our `SudokuPuzzle` object instance.\n",
    "2. `x`: Starting from the left-hand side of the 2D list, move right `x` spaces.\n",
    "   - 0-indexed value following $0 \\le x \\le 8$.\n",
    "3. `y`: Starting from the top of the 2D list, move downwards `y` spaces.\n",
    "   - 0-indexed value following $0 \\le y \\le 8$.\n",
    "4. `value`: This is the value integer we are checking for, following $1 \\le value \\le 9$.\n",
    "\n",
    "Once you find the Sub-Square that our `x` and `y` coordinates point to, you need to check if `value` appears in that 3 by 3 Sub-Square. Return `True` if it does not appear, and `False` if it does. \n",
    "\n",
    "Remember, the coordinate `(2, 2)` and the coordinate `(0, 0)` both point to the same sub-square. You need to turn the coordinates into a sub-square, then check all 9 squares found within!"
   ]
  },
  {
   "cell_type": "code",
   "execution_count": 103,
   "metadata": {
    "deletable": false,
    "nbgrader": {
     "cell_type": "code",
     "checksum": "01f965f10b7fb03b7c93d2fa82d85843",
     "grade": false,
     "grade_id": "cell-9babbe5533fa7549",
     "locked": false,
     "schema_version": 3,
     "solution": true,
     "task": false
    }
   },
   "outputs": [],
   "source": [
    "#def sub_square_check(self, x, y, value):\n",
    "def sub_square_check(self, x, y, value):\n",
    "    sect_x = 0\n",
    "    sect_y = 0\n",
    "    \n",
    "    sect_dict = {\n",
    "        0: [0,1,2],\n",
    "        1: [3,4,5],\n",
    "        2: [6,7,8]\n",
    "    }\n",
    "    for i in range(0,3):\n",
    "        if x in sect_dict[i]:\n",
    "            sect_x = i\n",
    "        if y in sect_dict[i]:\n",
    "            sect_y = i\n",
    "    \n",
    "    temp = []\n",
    "    for z in self.board:\n",
    "        temp.append([z[x:x+3] for x in range(0,len(z),3)])\n",
    "    segmented = [temp[x:x+3] for x in range(0,len(temp),3)]\n",
    "    \n",
    "    \n",
    "    subsquare = []\n",
    "    for z in segmented[sect_y]:\n",
    "        subsquare.append(z[sect_x])\n",
    "    \n",
    "    if not any(value in x for x in subsquare):\n",
    "        return True\n",
    "    \n",
    "    return False\n",
    "\n",
    "# The following line of code will take your function and insert it into the class\n",
    "# Do not modify it.\n",
    "SudokuPuzzle.sub_square_check = sub_square_check\n",
    "\n",
    "#puzzle = load_puzzle(\"A10_puzzles.json\", \"s1\")\n",
    "#puzzle.sub_square_check(9,4,8)"
   ]
  },
  {
   "cell_type": "code",
   "execution_count": null,
   "metadata": {
    "deletable": false,
    "editable": false,
    "nbgrader": {
     "cell_type": "code",
     "checksum": "02d1f8885a4ee2bbf8a8ea03c2ed54d3",
     "grade": true,
     "grade_id": "cell-055bebfb5e19e02f",
     "locked": true,
     "points": 1,
     "schema_version": 3,
     "solution": false,
     "task": false
    }
   },
   "outputs": [],
   "source": [
    "# Hidden Test Case"
   ]
  },
  {
   "cell_type": "code",
   "execution_count": null,
   "metadata": {
    "deletable": false,
    "editable": false,
    "nbgrader": {
     "cell_type": "code",
     "checksum": "698c1b09f3806bbcb5fd1bb8e80f9bd9",
     "grade": true,
     "grade_id": "cell-c130f3ef4bddec5f",
     "locked": true,
     "points": 1,
     "schema_version": 3,
     "solution": false,
     "task": false
    }
   },
   "outputs": [],
   "source": [
    "# Hidden Test Case"
   ]
  },
  {
   "cell_type": "code",
   "execution_count": null,
   "metadata": {
    "deletable": false,
    "editable": false,
    "nbgrader": {
     "cell_type": "code",
     "checksum": "024b2d65093e9260b05aa015a92f5736",
     "grade": true,
     "grade_id": "cell-51ecc43d3a60ece6",
     "locked": true,
     "points": 1,
     "schema_version": 3,
     "solution": false,
     "task": false
    }
   },
   "outputs": [],
   "source": [
    "# Hidden Test Case"
   ]
  },
  {
   "cell_type": "markdown",
   "metadata": {
    "deletable": false,
    "editable": false,
    "nbgrader": {
     "cell_type": "markdown",
     "checksum": "5bc0051ef330743315662f90c1c9f284",
     "grade": false,
     "grade_id": "cell-053c81ced8b3a431",
     "locked": true,
     "schema_version": 3,
     "solution": false,
     "task": false
    }
   },
   "source": [
    "## Question 3 - Constructing a Strategy [3 points]\n",
    "\n",
    "Now, in order to solve a Sudoku Puzzle, we need something that replaces the empty cells with values! Meaning we need a method of finding values that we can guarantee will work in that cell.\n",
    "\n",
    "One such strategy is known as \"Elimination\". This strategy starts with all numbers from 1-9, and eliminates numbers from the Sudoku Puzzle that are already in the row, column, or Sub-Square. Once all numbers have been eliminated, we check if there are any numbers left. If there is 1 number, then we know that number MUST go in that square. If there is more than 1 number, then the strategy cannot place a value in that cell and errors. If there are 0 numbers that can go into a cell, that is also an error as it is likely you have violated a rule of Sudoku!\n",
    "\n",
    "Write a function called `elimination_strategy` that takes in 3 arguments:\n",
    "\n",
    "1. `self`: This is our `SudokuPuzzle` object instance.\n",
    "2. `x`: Similar to our Sub-Square check, this is the x coordinate of the cell we are checking.\n",
    "3. `y`: Similar to our Sub-Square check, this is the y coordinate of the cell we are checking.\n",
    "\n",
    "After performing the strategy detailed above, you will need to return a value according to the following rules:\n",
    "\n",
    "- If there is one possible number that can go in that cell, then return that number. \n",
    "- If there are multiple possible numbers, then we will raise a `TooManyChoices` custom exception.\n",
    "- If there are no possible numbers, then we will raise a `NoChoices` custom exception."
   ]
  },
  {
   "cell_type": "code",
   "execution_count": 187,
   "metadata": {
    "deletable": false,
    "nbgrader": {
     "cell_type": "code",
     "checksum": "a33f8ce4f78a54d084b688adb7477c57",
     "grade": false,
     "grade_id": "cell-485777ae33b81568",
     "locked": false,
     "schema_version": 3,
     "solution": true,
     "task": false
    }
   },
   "outputs": [],
   "source": [
    "class TooManyChoices(Exception):\n",
    "    pass\n",
    "\n",
    "class NoChoices(Exception):\n",
    "    pass\n",
    "\n",
    "def elimination_strategy(self, x, y):\n",
    "    col_x = []\n",
    "    col_y = []\n",
    "    \n",
    "    pos_y = []\n",
    "    \n",
    "    \n",
    "    if self.board[y][x] != 0:\n",
    "        raise NoChoices\n",
    "    \n",
    "    #creates a list of the y column\n",
    "    for z in self.board:\n",
    "        pos_y.append(z[x])\n",
    "        \n",
    "    #checks for available numbers in the range(1,9) for y values\n",
    "    for same_y in pos_y:\n",
    "        if same_y in range(1,10):\n",
    "            col_y.append(same_y)    \n",
    "       \n",
    "    #checks for available numbers in the range(1,9) for x values\n",
    "    for same_x in self.board[y]:\n",
    "        if same_x in range(1,10):\n",
    "            col_x.append(same_x)  \n",
    "    \n",
    "    pos_num = []\n",
    "    for i in range(1,10):\n",
    "        if (i not in col_x) and (i not in col_y) and self.sub_square_check(x, y, i):\n",
    "            pos_num.append(i)\n",
    "    \n",
    "    if (len(pos_num) >= 2):\n",
    "        raise TooManyChoices\n",
    "    elif (len(pos_num) <= 0):\n",
    "        raise NoChoices\n",
    "        \n",
    "    return pos_num[0]\n",
    "\n",
    "# The following line of code will take your function and insert it into the class\n",
    "# Do not modify it.\n",
    "SudokuPuzzle.elimination_strategy = elimination_strategy"
   ]
  },
  {
   "cell_type": "code",
   "execution_count": 188,
   "metadata": {
    "deletable": false,
    "editable": false,
    "nbgrader": {
     "cell_type": "code",
     "checksum": "0f7c78c5df5ed09f1c637b6860cba23c",
     "grade": false,
     "grade_id": "cell-13cdae6ec6286e58",
     "locked": true,
     "schema_version": 3,
     "solution": false,
     "task": false
    }
   },
   "outputs": [
    {
     "name": "stdout",
     "output_type": "stream",
     "text": [
      "Question #3 Test Case #1: You Passed!\n",
      "Question #3 Test Case #2: You Passed!\n",
      "Question #3 Test Case #3: You Passed!\n"
     ]
    }
   ],
   "source": [
    "# Works just fine\n",
    "puzzle = load_puzzle(\"A10_puzzles.json\", \"s1\")\n",
    "print(\"Question #3 Test Case #1:\", tester(puzzle.elimination_strategy(6, 4), 8))\n",
    "# Too Many Choices Error\n",
    "puzzle = load_puzzle(\"A10_puzzles.json\", \"s1\")\n",
    "try:\n",
    "    puzzle.elimination_strategy(0, 0)\n",
    "    print(\"Question #3 Test Case #2: You Failed!\")\n",
    "except TooManyChoices:\n",
    "    print(\"Question #3 Test Case #2: You Passed!\")\n",
    "except Exception:\n",
    "    print(\"Question #3 Test Case #2: You Failed! -- Wrong Exception\")\n",
    "# No Choices Error\n",
    "puzzle = load_puzzle(\"A10_puzzles.json\", \"s4\")\n",
    "try:\n",
    "    puzzle.elimination_strategy(5, 6)\n",
    "    print(\"Question #3 Test Case #3: You Failed!\")\n",
    "except NoChoices:\n",
    "    print(\"Question #3 Test Case #3: You Passed!\")\n",
    "except Exception:\n",
    "    print(\"Question #3 Test Case #3: You Failed! -- Wrong Exception\")"
   ]
  },
  {
   "cell_type": "code",
   "execution_count": null,
   "metadata": {
    "deletable": false,
    "editable": false,
    "nbgrader": {
     "cell_type": "code",
     "checksum": "6d025d994f9567901c5679d2361a8c0e",
     "grade": true,
     "grade_id": "cell-efc28d99c0a42da0",
     "locked": true,
     "points": 1,
     "schema_version": 3,
     "solution": false,
     "task": false
    }
   },
   "outputs": [],
   "source": [
    "# Hidden Test Case"
   ]
  },
  {
   "cell_type": "code",
   "execution_count": null,
   "metadata": {
    "deletable": false,
    "editable": false,
    "nbgrader": {
     "cell_type": "code",
     "checksum": "6ba3d2bf5f9513402d8e0aedc4c46a76",
     "grade": true,
     "grade_id": "cell-34efa0cabaca4a4e",
     "locked": true,
     "points": 1,
     "schema_version": 3,
     "solution": false,
     "task": false
    }
   },
   "outputs": [],
   "source": [
    "# Hidden Test Case"
   ]
  },
  {
   "cell_type": "code",
   "execution_count": null,
   "metadata": {
    "deletable": false,
    "editable": false,
    "nbgrader": {
     "cell_type": "code",
     "checksum": "ae11379a3c21115cbf7facb49f2efe66",
     "grade": true,
     "grade_id": "cell-68360a41901f48a5",
     "locked": true,
     "points": 1,
     "schema_version": 3,
     "solution": false,
     "task": false
    }
   },
   "outputs": [],
   "source": [
    "# Hidden Test Case"
   ]
  },
  {
   "cell_type": "markdown",
   "metadata": {
    "deletable": false,
    "editable": false,
    "nbgrader": {
     "cell_type": "markdown",
     "checksum": "3ad30498886739f93c89da92d45b17cf",
     "grade": false,
     "grade_id": "cell-ce5909beeed602aa",
     "locked": true,
     "schema_version": 3,
     "solution": false,
     "task": false
    }
   },
   "source": [
    "## Question 4 - Apply Strategies [4 points]\n",
    "\n",
    "Now that we have a strategy, we need to actually go ahead and apply it! This is simple really, just start at the top left of the Sudoku Puzzle, and apply the strategy to each cell. You know a strategy works if even a single cell changes from the original Sudoku Puzzle, but if the board doesn't change, then the strategy is voided.\n",
    "\n",
    "Now, we made you implement the `elimination_strategy` function, so we can apply it to the entire board, but there are MANY different strategies that can be applied to the board. There is a lovely YouTube video that shows a bunch of different strategies, explaining what they do and how they would be applied: [https://www.youtube.com/watch?v=b123EURtu3I](https://www.youtube.com/watch?v=b123EURtu3I).\n",
    "\n",
    "Write a function called `apply_strategy` that takes in 2 arguments:\n",
    "\n",
    "1. `self`: This is our `SudokuPuzzle` object instance.\n",
    "2. `strategy`: This is the strategy function we are applying to the board.\n",
    "    - The strategy function will always be in the format of `strategy(self, x, y)`, exactly like our `elimination_strategy` function.\n",
    "\n",
    "What you should do it attempt to run `strategy` on every 0 cell in the board. If the function succeeds, you replace the 0 cell with the value found by the strategy, and keep going. You should run the function on **ALL ZERO CELLS** in the board, no matter how many times it succeeds. If the `strategy` succeeds on our board, then this function should return `True`. If the `strategy` cannot be applied to a single cell of the board, then this function should return `False`.\n",
    "\n",
    "**Hints**:\n",
    "\n",
    "- There is no point in running a strategy on a cell that is already filled.\n",
    "- This function mutates the Sudoku Puzzle object, so you should not return the board afterwards. Only the boolean is relevant."
   ]
  },
  {
   "cell_type": "code",
   "execution_count": 189,
   "metadata": {
    "deletable": false,
    "nbgrader": {
     "cell_type": "code",
     "checksum": "377b5161c5da565b781406a04b84d5e2",
     "grade": false,
     "grade_id": "cell-60b4d8895af13564",
     "locked": false,
     "schema_version": 3,
     "solution": true,
     "task": false
    }
   },
   "outputs": [],
   "source": [
    "def apply_strategy(self, strategy):\n",
    "    working = False\n",
    "    if self.all_filled():\n",
    "        return False\n",
    "    \n",
    "    for x in range(0,9):\n",
    "        for y in range(0,9):\n",
    "            if self.board[y][x] == 0:\n",
    "                try:\n",
    "                    self.board[y][x] = strategy(self, x,y)\n",
    "                    working = True\n",
    "                except:\n",
    "                    pass\n",
    "    return working\n",
    "\n",
    "# The following line of code will take your function and insert it into the class\n",
    "# Do not modify it.\n",
    "SudokuPuzzle.apply_strategy = apply_strategy"
   ]
  },
  {
   "cell_type": "code",
   "execution_count": 190,
   "metadata": {
    "deletable": false,
    "editable": false,
    "nbgrader": {
     "cell_type": "code",
     "checksum": "589e0527236beb5682929239381ece8c",
     "grade": false,
     "grade_id": "cell-f32864415b9e1eed",
     "locked": true,
     "schema_version": 3,
     "solution": false,
     "task": false
    }
   },
   "outputs": [
    {
     "name": "stdout",
     "output_type": "stream",
     "text": [
      "Question #4 Test Case #1: You Passed!\n",
      "Question #4 Test Case #2: You Passed!\n",
      "Question #4 Test Case #3: You Passed!\n"
     ]
    }
   ],
   "source": [
    "s1 = load_puzzle(\"A10_puzzles.json\", \"s1\")\n",
    "s3 = load_puzzle(\"A10_puzzles.json\", \"s3\")\n",
    "s5 = load_puzzle(\"A10_puzzles.json\", \"s5\")\n",
    "\n",
    "s1.apply_strategy(elimination_strategy)\n",
    "print(\"Question #4 Test Case #1:\", tester(s1, s5))\n",
    "print(\"Question #4 Test Case #2:\", tester(not s3.apply_strategy(elimination_strategy)))\n",
    "\n",
    "s1 = load_puzzle(\"A10_puzzles.json\", \"s1\")\n",
    "s3 = load_puzzle(\"A10_puzzles.json\", \"s3\")\n",
    "s5 = load_puzzle(\"A10_puzzles.json\", \"s5\")\n",
    "\n",
    "s5.apply_strategy(elimination_strategy)\n",
    "print(\"Question #4 Test Case #3:\", \n",
    "      tester(s5, SudokuPuzzle([\n",
    "          [0, 9, 7, 0, 4, 0, 0, 1, 5], \n",
    "          [0, 1, 4, 3, 9, 7, 6, 8, 2], \n",
    "          [0, 6, 2, 0, 1, 8, 4, 7, 9], \n",
    "          [6, 2, 9, 8, 7, 1, 5, 4, 3], \n",
    "          [7, 3, 5, 4, 6, 9, 8, 2, 1], \n",
    "          [4, 8, 1, 2, 5, 3, 9, 6, 7], \n",
    "          [9, 4, 6, 1, 2, 5, 7, 3, 8], \n",
    "          [2, 7, 3, 9, 8, 4, 1, 5, 6], \n",
    "          [1, 5, 8, 7, 3, 6, 2, 9, 4]]\n",
    "        )))"
   ]
  },
  {
   "cell_type": "code",
   "execution_count": 184,
   "metadata": {
    "deletable": false,
    "editable": false,
    "nbgrader": {
     "cell_type": "code",
     "checksum": "941bbb207cd58ad8fb702ea678f4171f",
     "grade": true,
     "grade_id": "cell-a66ecfbec799049b",
     "locked": true,
     "points": 1,
     "schema_version": 3,
     "solution": false,
     "task": false
    }
   },
   "outputs": [],
   "source": [
    "# Hidden Test Case"
   ]
  },
  {
   "cell_type": "code",
   "execution_count": null,
   "metadata": {
    "deletable": false,
    "editable": false,
    "nbgrader": {
     "cell_type": "code",
     "checksum": "9080fd95284f33849b06b975c1194287",
     "grade": true,
     "grade_id": "cell-50ecab22f66669cb",
     "locked": true,
     "points": 1,
     "schema_version": 3,
     "solution": false,
     "task": false
    }
   },
   "outputs": [],
   "source": [
    "# Hidden Test Case"
   ]
  },
  {
   "cell_type": "code",
   "execution_count": null,
   "metadata": {
    "deletable": false,
    "editable": false,
    "nbgrader": {
     "cell_type": "code",
     "checksum": "7e26046c1b4b2ec71c251058c1f16cb2",
     "grade": true,
     "grade_id": "cell-eeac1c46b85660fa",
     "locked": true,
     "points": 1,
     "schema_version": 3,
     "solution": false,
     "task": false
    }
   },
   "outputs": [],
   "source": [
    "# Hidden Test Case"
   ]
  },
  {
   "cell_type": "code",
   "execution_count": null,
   "metadata": {
    "deletable": false,
    "editable": false,
    "nbgrader": {
     "cell_type": "code",
     "checksum": "e558fdcefeef975f3c076a2ad2a53689",
     "grade": true,
     "grade_id": "cell-8245eedb7500a016",
     "locked": true,
     "points": 1,
     "schema_version": 3,
     "solution": false,
     "task": false
    }
   },
   "outputs": [],
   "source": [
    "# Hidden Test Case"
   ]
  },
  {
   "cell_type": "markdown",
   "metadata": {
    "deletable": false,
    "editable": false,
    "nbgrader": {
     "cell_type": "markdown",
     "checksum": "2da2e4009f7628a9fc78c2bbd03f912b",
     "grade": false,
     "grade_id": "cell-3b934eadefe3c799",
     "locked": true,
     "schema_version": 3,
     "solution": false,
     "task": false
    }
   },
   "source": [
    "## Question 5 - Can we Solve a Dang Puzzle Now? [4 points]\n",
    "\n",
    "At this point, we have all the tools and pieces... Let's put them together and do this!\n",
    "\n",
    "Write a function `solve` that takes in 2 arguments:\n",
    "\n",
    "1. `self`: This is our `SudokuPuzzle` object instance.\n",
    "2. `strategies`: This is a list of strategy functions we intend on applying to the board to solve it.\n",
    "\n",
    "We are going to continuously apply strategies to the board until we get one of two situations:\n",
    "\n",
    "- The board is solved with a valid, non-zero, number in **EVERY** cell, OR\n",
    "- The board doesn't change. No strategy causes a 0 cell to become a non-zero cell.\n",
    "\n",
    "Now, if the board is solved, you should return `True` to indicate that the function worked as intended. However, if you apply all `strategies`to the board and nothing changes, you should raise a `UnsolvablePuzzle` custom exception.\n",
    "\n",
    "Now you might be asking: \"How do we check if the board fails all strategies?\" Well, we can use the `apply_strategy` function we wrote earlier. It returns a boolean value, remember?"
   ]
  },
  {
   "cell_type": "code",
   "execution_count": 228,
   "metadata": {
    "deletable": false,
    "nbgrader": {
     "cell_type": "code",
     "checksum": "9809b13b0dd69eefa0b7e25757d8c36e",
     "grade": false,
     "grade_id": "cell-4691629c907ec284",
     "locked": false,
     "schema_version": 3,
     "solution": true,
     "task": false
    }
   },
   "outputs": [],
   "source": [
    "class UnsolvablePuzzle(Exception):\n",
    "    pass\n",
    "\n",
    "def solve(self, strategies):\n",
    "    while True:\n",
    "        changing = False\n",
    "        for x in strategies:\n",
    "            if self.all_filled():\n",
    "                return True\n",
    "            if self.apply_strategy(x):\n",
    "                changing = True\n",
    "                \n",
    "        if not changing:\n",
    "            raise UnsolvablePuzzle\n",
    "            \n",
    "    return False\n",
    "\n",
    "# The following line of code will take your function and insert it into the class\n",
    "# Do not modify it.\n",
    "SudokuPuzzle.solve = solve"
   ]
  },
  {
   "cell_type": "code",
   "execution_count": 229,
   "metadata": {
    "deletable": false,
    "editable": false,
    "nbgrader": {
     "cell_type": "code",
     "checksum": "58f2adce60a06fb1edccf19abfd6aecb",
     "grade": false,
     "grade_id": "cell-1e5c8c86be4f5476",
     "locked": true,
     "schema_version": 3,
     "solution": false,
     "task": false
    }
   },
   "outputs": [
    {
     "name": "stdout",
     "output_type": "stream",
     "text": [
      "Question #5 Test Case #1: You Passed!\n",
      "Question #5 Test Case #2: You Passed!\n",
      "Question #5 Test Case #3: You Passed!\n"
     ]
    }
   ],
   "source": [
    "s1 = load_puzzle(\"A10_puzzles.json\", \"s1\")\n",
    "s3 = load_puzzle(\"A10_puzzles.json\", \"s3\")\n",
    "s5 = load_puzzle(\"A10_puzzles.json\", \"s5\")\n",
    "print(\"Question #5 Test Case #1:\", tester(s1.solve([elimination_strategy]) and s1 == s3))\n",
    "s1 = load_puzzle(\"A10_puzzles.json\", \"s1\")\n",
    "s3 = load_puzzle(\"A10_puzzles.json\", \"s3\")\n",
    "s5 = load_puzzle(\"A10_puzzles.json\", \"s5\")\n",
    "print(\"Question #5 Test Case #2:\", tester(s5.solve([elimination_strategy]) and s5 == s3))\n",
    "s1 = load_puzzle(\"A10_puzzles.json\", \"s1\")\n",
    "s3 = load_puzzle(\"A10_puzzles.json\", \"s3\")\n",
    "s5 = load_puzzle(\"A10_puzzles.json\", \"s5\")\n",
    "try :\n",
    "    s2.solve([elimination_strategy])\n",
    "    print(\"Question #5 Test Case #3: You Failed!\")\n",
    "except Exception:\n",
    "    print(\"Question #5 Test Case #3: You Passed!\")"
   ]
  },
  {
   "cell_type": "code",
   "execution_count": null,
   "metadata": {
    "deletable": false,
    "editable": false,
    "nbgrader": {
     "cell_type": "code",
     "checksum": "d8640627eb39aac827a49ea9ff226684",
     "grade": true,
     "grade_id": "cell-2f4538f032a5b6c5",
     "locked": true,
     "points": 1,
     "schema_version": 3,
     "solution": false,
     "task": false
    }
   },
   "outputs": [],
   "source": [
    "# Hidden Test Case"
   ]
  },
  {
   "cell_type": "code",
   "execution_count": null,
   "metadata": {
    "deletable": false,
    "editable": false,
    "nbgrader": {
     "cell_type": "code",
     "checksum": "701c496a8dc9ce8c023ff3bb677a2b97",
     "grade": true,
     "grade_id": "cell-14298f29dc0554ae",
     "locked": true,
     "points": 1,
     "schema_version": 3,
     "solution": false,
     "task": false
    }
   },
   "outputs": [],
   "source": [
    "# Hidden Test Case"
   ]
  },
  {
   "cell_type": "code",
   "execution_count": null,
   "metadata": {
    "deletable": false,
    "editable": false,
    "nbgrader": {
     "cell_type": "code",
     "checksum": "759c8e5182244b337909e4aac4eeb6b2",
     "grade": true,
     "grade_id": "cell-2e8c2085819e78bf",
     "locked": true,
     "points": 1,
     "schema_version": 3,
     "solution": false,
     "task": false
    }
   },
   "outputs": [],
   "source": [
    "# Hidden Test Case"
   ]
  },
  {
   "cell_type": "code",
   "execution_count": null,
   "metadata": {
    "deletable": false,
    "editable": false,
    "nbgrader": {
     "cell_type": "code",
     "checksum": "bedfbe60b2bd83d30e43fe70f91848bd",
     "grade": true,
     "grade_id": "cell-03a50fe601978067",
     "locked": true,
     "points": 1,
     "schema_version": 3,
     "solution": false,
     "task": false
    }
   },
   "outputs": [],
   "source": [
    "# Hidden Test Case"
   ]
  },
  {
   "cell_type": "markdown",
   "metadata": {
    "deletable": false,
    "editable": false,
    "nbgrader": {
     "cell_type": "markdown",
     "checksum": "1d04881bf6d15dfb40d854bb3f8e57bd",
     "grade": false,
     "grade_id": "cell-b32ba2a5d9427dac",
     "locked": true,
     "schema_version": 3,
     "solution": false,
     "task": false
    }
   },
   "source": [
    "## Bonus Question 1a (8 points) - Difficulty Level : Evil\n",
    "\n",
    "Our elimination method (also known as \"Naked Singles\") works well for easy sudoku problems, but fails when used on more difficult puzzles, such as those defined above as puzzles \"m\" and \"h\".  In order to solve these puzzles, we need more strategies!!  \n",
    "\n",
    "Here's a link to the youtube video cited above which outlines nine sudoku strategies: \n",
    "\n",
    "https://www.youtube.com/watch?v=b123EURtu3I\n",
    "\n",
    "Using your programming skills, create one or more additional strategies, such that our solveSudoku function (when supplied with the additional strategies) will solve the \"m\" sudoku puzzle. You are free to select whatever set of strategies you like, but \"Hidden Singles\" is a suggested starting point.\n",
    "\n",
    "Remember that a strategy must take the inputs x, y, and s, as indicated in Question 3.  \n",
    "\n",
    "**NOTE:** This question is difficult, long and complicated!  Don't stress too much if you can't get it... it won't be on the exam ^_^\n",
    "\n",
    "**DOUBLE NOTE:** Solving 'medium' is worth full marks.  Part marks will be awarded for being able to fill in additional blanks left over from running the 'elimination' strategy."
   ]
  },
  {
   "cell_type": "code",
   "execution_count": null,
   "metadata": {
    "deletable": false,
    "nbgrader": {
     "cell_type": "code",
     "checksum": "8b8aef0949f3b2433ddc3cbf6b20301e",
     "grade": false,
     "grade_id": "cell-1d20fa790189021a",
     "locked": false,
     "schema_version": 3,
     "solution": true,
     "task": false
    }
   },
   "outputs": [],
   "source": [
    "# your code here!\n"
   ]
  },
  {
   "cell_type": "code",
   "execution_count": null,
   "metadata": {},
   "outputs": [],
   "source": [
    "global medium\n",
    "medium = load_puzzle(\"A10_puzzles.json\", \"medium\")\n",
    "# Edit this however you like to make it work\n",
    "# We recommend hiddenSingles though... Very helpful strategy.\n",
    "# Don't change the variable name though.\n",
    "medium.solve([elimination_strategy, hiddenSingles]) "
   ]
  },
  {
   "cell_type": "code",
   "execution_count": null,
   "metadata": {
    "deletable": false,
    "nbgrader": {
     "cell_type": "code",
     "checksum": "75718f80bfe242809ad9a49eea6ddaa0",
     "grade": true,
     "grade_id": "cell-30270c7690ace420",
     "locked": false,
     "points": 0,
     "schema_version": 3,
     "solution": true,
     "task": false
    }
   },
   "outputs": [],
   "source": []
  },
  {
   "cell_type": "code",
   "execution_count": null,
   "metadata": {
    "deletable": false,
    "editable": false,
    "nbgrader": {
     "cell_type": "code",
     "checksum": "8f194d1e78ab8bfaba4a5d9b19bf2d13",
     "grade": true,
     "grade_id": "cell-cc659cbb8541cc7b",
     "locked": true,
     "points": 8,
     "schema_version": 3,
     "solution": false,
     "task": false
    }
   },
   "outputs": [],
   "source": [
    "# Hidden Test Case"
   ]
  },
  {
   "cell_type": "markdown",
   "metadata": {
    "deletable": false,
    "editable": false,
    "nbgrader": {
     "cell_type": "markdown",
     "checksum": "7a47cd0095e8e69799c991411796d815",
     "grade": false,
     "grade_id": "cell-0b399569e337c287",
     "locked": true,
     "schema_version": 3,
     "solution": false,
     "task": false
    }
   },
   "source": [
    "## Bonus Question 1b (12 points!!) - Difficulty Level : Psychotic \n",
    "\n",
    "Now extend your strategies to handle sudoku puzzle `'hard'`! \n",
    "\n",
    "This one is all or nothing!  Adding enough strategies to solve `'hard'` is worth 12 points! \n",
    "\n",
    "MWAHAHAHAHAHA!!! GOOD LUCK!!! "
   ]
  },
  {
   "cell_type": "code",
   "execution_count": null,
   "metadata": {
    "deletable": false,
    "nbgrader": {
     "cell_type": "code",
     "checksum": "3298761e317248a1020ce3084cfcdbf4",
     "grade": false,
     "grade_id": "cell-84cfb18d8159e622",
     "locked": false,
     "schema_version": 3,
     "solution": true,
     "task": false
    }
   },
   "outputs": [],
   "source": [
    "# your code here!\n"
   ]
  },
  {
   "cell_type": "code",
   "execution_count": null,
   "metadata": {
    "deletable": false,
    "editable": false,
    "nbgrader": {
     "cell_type": "code",
     "checksum": "89932a892cc258bf49319c39057d7e71",
     "grade": false,
     "grade_id": "cell-3daebdee0d1a2fb7",
     "locked": true,
     "schema_version": 3,
     "solution": false,
     "task": false
    }
   },
   "outputs": [],
   "source": [
    "global hard\n",
    "hard = load_puzzle(\"A10_puzzles.json\", \"hard\")\n",
    "# Edit this however you like to make it work\n",
    "# We recommend hiddenSingles though... Very helpful strategy.\n",
    "# Don't change the variable name though.\n",
    "hard.solve([elimination_strategy]) "
   ]
  },
  {
   "cell_type": "code",
   "execution_count": null,
   "metadata": {
    "deletable": false,
    "nbgrader": {
     "cell_type": "code",
     "checksum": "73973b225f21ad771977bfc4b24f8e52",
     "grade": true,
     "grade_id": "cell-25b5811e0e047f3c",
     "locked": false,
     "points": 0,
     "schema_version": 3,
     "solution": true,
     "task": false
    }
   },
   "outputs": [],
   "source": []
  },
  {
   "cell_type": "code",
   "execution_count": null,
   "metadata": {
    "deletable": false,
    "editable": false,
    "nbgrader": {
     "cell_type": "code",
     "checksum": "1ec8490c642ee735b151c8488d83a70b",
     "grade": true,
     "grade_id": "cell-2eb27365ec80cc06",
     "locked": true,
     "points": 12,
     "schema_version": 3,
     "solution": false,
     "task": false
    }
   },
   "outputs": [],
   "source": [
    "# Hidden Test Case"
   ]
  }
 ],
 "metadata": {
  "interpreter": {
   "hash": "767d51c1340bd893661ea55ea3124f6de3c7a262a8b4abca0554b478b1e2ff90"
  },
  "kernelspec": {
   "display_name": "Python 3 (ipykernel)",
   "language": "python",
   "name": "python3"
  },
  "language_info": {
   "codemirror_mode": {
    "name": "ipython",
    "version": 3
   },
   "file_extension": ".py",
   "mimetype": "text/x-python",
   "name": "python",
   "nbconvert_exporter": "python",
   "pygments_lexer": "ipython3",
   "version": "3.9.13"
  }
 },
 "nbformat": 4,
 "nbformat_minor": 2
}
